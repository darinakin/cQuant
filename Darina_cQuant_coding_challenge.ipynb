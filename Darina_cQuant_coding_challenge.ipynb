{
  "nbformat": 4,
  "nbformat_minor": 0,
  "metadata": {
    "colab": {
      "provenance": [],
      "mount_file_id": "196Jv6AqfMJBFjZOWPSFyFrCyBvJEuYhw",
      "authorship_tag": "ABX9TyNVhbhJbTvye51wgKvD0tZe",
      "include_colab_link": true
    },
    "kernelspec": {
      "name": "python3",
      "display_name": "Python 3"
    },
    "language_info": {
      "name": "python"
    }
  },
  "cells": [
    {
      "cell_type": "markdown",
      "metadata": {
        "id": "view-in-github",
        "colab_type": "text"
      },
      "source": [
        "<a href=\"https://colab.research.google.com/github/darinakin/cQuant/blob/main/Darina_cQuant_coding_challenge.ipynb\" target=\"_parent\"><img src=\"https://colab.research.google.com/assets/colab-badge.svg\" alt=\"Open In Colab\"/></a>"
      ]
    },
    {
      "cell_type": "code",
      "execution_count": 11,
      "metadata": {
        "id": "6LR1xhSUIj9c"
      },
      "outputs": [],
      "source": [
        "import pandas as pd\n",
        "import matplotlib.pyplot as plt\n",
        "import seaborn as sns\n",
        "import numpy as np\n"
      ]
    },
    {
      "cell_type": "code",
      "source": [
        "folder_path = '/Users/darina/Desktop/cQuant/hist'\n"
      ],
      "metadata": {
        "id": "KozvMDpOI1ZO"
      },
      "execution_count": 12,
      "outputs": []
    },
    {
      "cell_type": "markdown",
      "source": [
        "### **Locational Nature of Power Prices**"
      ],
      "metadata": {
        "id": "5OLW2sNCSgo5"
      }
    },
    {
      "cell_type": "markdown",
      "source": [
        "**Task 1:** Read in all the historical data and combine it into a single data structure (data frame, table, etc.)."
      ],
      "metadata": {
        "id": "simye5vCQZMW"
      }
    },
    {
      "cell_type": "code",
      "source": [
        "from google.colab import drive\n",
        "drive.mount('/content/drive')"
      ],
      "metadata": {
        "colab": {
          "base_uri": "https://localhost:8080/"
        },
        "id": "qokEnClyOvF0",
        "outputId": "c58985a0-745f-42a0-e9e9-25048f50e958"
      },
      "execution_count": 13,
      "outputs": [
        {
          "output_type": "stream",
          "name": "stdout",
          "text": [
            "Drive already mounted at /content/drive; to attempt to forcibly remount, call drive.mount(\"/content/drive\", force_remount=True).\n"
          ]
        }
      ]
    },
    {
      "cell_type": "code",
      "source": [
        "csv_files = glob.glob(folder_path + '*.csv')\n",
        "dfs = []\n",
        "for csv_file in csv_files:\n",
        "    df = pd.read_csv(csv_file)\n",
        "    dfs.append(df)"
      ],
      "metadata": {
        "id": "ZKqe0Ss9O6de"
      },
      "execution_count": 14,
      "outputs": []
    },
    {
      "cell_type": "code",
      "source": [
        "file_names = ['ERCOT_DA_Prices_2016.csv', 'ERCOT_DA_Prices_2017.csv', 'ERCOT_DA_Prices_2018.csv', 'ERCOT_DA_Prices_2019.csv']\n"
      ],
      "metadata": {
        "id": "AlVyo58sPsbr"
      },
      "execution_count": 16,
      "outputs": []
    },
    {
      "cell_type": "code",
      "source": [
        "dfs = []\n"
      ],
      "metadata": {
        "id": "18BEvDeOP7PX"
      },
      "execution_count": 17,
      "outputs": []
    },
    {
      "cell_type": "code",
      "source": [
        "for file in file_names:\n",
        "    df = pd.read_csv(file)\n",
        "    dfs.append(df)"
      ],
      "metadata": {
        "id": "WUqZuPkAP9qP"
      },
      "execution_count": 18,
      "outputs": []
    },
    {
      "cell_type": "code",
      "source": [
        "combined_df = pd.concat(dfs, ignore_index=True)\n"
      ],
      "metadata": {
        "id": "DlYFalS0QAYh"
      },
      "execution_count": 19,
      "outputs": []
    },
    {
      "cell_type": "code",
      "source": [
        "print(combined_df.head())\n"
      ],
      "metadata": {
        "colab": {
          "base_uri": "https://localhost:8080/"
        },
        "id": "wYr6T5mEQEgT",
        "outputId": "b0daf825-2f2c-4083-8ce5-5d6cb2d51eb7"
      },
      "execution_count": 20,
      "outputs": [
        {
          "output_type": "stream",
          "name": "stdout",
          "text": [
            "                  Date SettlementPoint  Price\n",
            "0  2016-01-01 00:00:00       HB_BUSAVG  18.42\n",
            "1  2016-01-01 00:00:00      HB_HOUSTON  18.42\n",
            "2  2016-01-01 00:00:00       HB_HUBAVG  18.42\n",
            "3  2016-01-01 00:00:00        HB_NORTH  18.43\n",
            "4  2016-01-01 00:00:00        HB_SOUTH  18.38\n"
          ]
        }
      ]
    },
    {
      "cell_type": "code",
      "source": [
        "combined_df.to_csv('combined_files.csv', index=False)\n"
      ],
      "metadata": {
        "id": "r32xqCbYQHZL"
      },
      "execution_count": 21,
      "outputs": []
    },
    {
      "cell_type": "markdown",
      "source": [
        "**Task 2:** Compute the average price for each settlement point and year-month in the historical dataset (48 year-months: January 2016 through December 2019)."
      ],
      "metadata": {
        "id": "gEkfILioQjAm"
      }
    },
    {
      "cell_type": "code",
      "source": [
        "combined_df['Date'] = pd.to_datetime(combined_df['Date'])\n"
      ],
      "metadata": {
        "id": "PlfkbLv8QL5R"
      },
      "execution_count": 22,
      "outputs": []
    },
    {
      "cell_type": "code",
      "source": [
        "start_date = pd.Timestamp('2016-01-01')\n",
        "end_date = pd.Timestamp('2019-12-31')\n",
        "filtered_df = combined_df[(combined_df['Date'] >= start_date) & (combined_df['Date'] <= end_date)]\n"
      ],
      "metadata": {
        "id": "3YtNRBTMR_Hq"
      },
      "execution_count": 23,
      "outputs": []
    },
    {
      "cell_type": "code",
      "source": [
        "monthly_avg_prices = filtered_df.groupby([filtered_df['Date'].dt.to_period('M'), 'SettlementPoint'])['Price'].mean().reset_index()\n",
        "print(monthly_avg_prices)\n",
        "\n"
      ],
      "metadata": {
        "colab": {
          "base_uri": "https://localhost:8080/"
        },
        "id": "B0Vr35TrSGot",
        "outputId": "912af81c-7316-4e82-bcea-69a731882d7f"
      },
      "execution_count": 25,
      "outputs": [
        {
          "output_type": "stream",
          "name": "stdout",
          "text": [
            "        Date SettlementPoint      Price\n",
            "0    2016-01       HB_BUSAVG  19.209301\n",
            "1    2016-01      HB_HOUSTON  19.565726\n",
            "2    2016-01       HB_HUBAVG  19.258696\n",
            "3    2016-01        HB_NORTH  19.133306\n",
            "4    2016-01        HB_SOUTH  19.210054\n",
            "..       ...             ...        ...\n",
            "676  2019-12         LZ_LCRA  19.462621\n",
            "677  2019-12        LZ_NORTH  18.999709\n",
            "678  2019-12        LZ_RAYBN  19.079293\n",
            "679  2019-12        LZ_SOUTH  19.798835\n",
            "680  2019-12         LZ_WEST  39.765187\n",
            "\n",
            "[681 rows x 3 columns]\n"
          ]
        }
      ]
    },
    {
      "cell_type": "markdown",
      "source": [
        "**Task 3:** Write the computed monthly average prices to file as a CSV named AveragePriceByMonth**.csv."
      ],
      "metadata": {
        "id": "jW_JWKbTSpXK"
      }
    },
    {
      "cell_type": "code",
      "source": [
        "output_file = 'AveragePriceByMonth.csv'\n",
        "monthly_avg_prices.to_csv(output_file, index=False)"
      ],
      "metadata": {
        "id": "NmXmarWTS0XJ"
      },
      "execution_count": 26,
      "outputs": []
    },
    {
      "cell_type": "markdown",
      "source": [
        "### **Price Volatility**"
      ],
      "metadata": {
        "id": "MpSp7m1nTel_"
      }
    },
    {
      "cell_type": "markdown",
      "source": [
        "**Task 4:** Compute the hourly price1 volatility for each year and each settlement hub in the historical power price data (hubs are denoted by the prefix \"HB_\" in the SettlementPoint name)."
      ],
      "metadata": {
        "id": "msBj6lbPVECw"
      }
    },
    {
      "cell_type": "code",
      "source": [
        "filtered_df2 = filtered_df[(filtered_df['SettlementPoint'].str.startswith('HB_')) & (filtered_df['Price'] > 0)]\n"
      ],
      "metadata": {
        "id": "VVCvRuv9TbKG"
      },
      "execution_count": 27,
      "outputs": []
    },
    {
      "cell_type": "code",
      "source": [
        "filtered_df2.loc[:, 'LogReturn'] = np.log(filtered_df2['Price'] / filtered_df2['Price'].shift(1))\n"
      ],
      "metadata": {
        "id": "dMwEquMMWweN"
      },
      "execution_count": 29,
      "outputs": []
    },
    {
      "cell_type": "code",
      "source": [
        "filtered_df2.loc[:, 'Year'] = filtered_df2['Date'].dt.year\n"
      ],
      "metadata": {
        "id": "25TU-4rVZ3c2"
      },
      "execution_count": 40,
      "outputs": []
    },
    {
      "cell_type": "code",
      "source": [
        "hourly_volatility = filtered_df2.groupby(['SettlementPoint', 'Year'])['LogReturn'].std().reset_index()\n",
        "hourly_volatility.rename(columns={'LogReturn': 'HourlyVolatility'}, inplace=True)\n",
        "hourly_volatility.to_csv('HourlyVolatilityByYear.csv', index=False)"
      ],
      "metadata": {
        "id": "0w5_2oJ4acee"
      },
      "execution_count": 41,
      "outputs": []
    },
    {
      "cell_type": "markdown",
      "source": [
        "**Task 6:** Determine which settlement hub showed the highest overall hourly volatility for each historical year. Write code to extract the rows of your computed hourly volatility table corresponding to these maxima and write this table to a second output file named MaxVolatilityByYear.csv."
      ],
      "metadata": {
        "id": "cx0PQYz8bG6S"
      }
    },
    {
      "cell_type": "code",
      "source": [
        "max_volatility_by_year = hourly_volatility.loc[hourly_volatility.groupby('Year')['HourlyVolatility'].idxmax()]\n",
        "max_volatility_by_year.to_csv('MaxVolatilityByYear.csv', index=False)"
      ],
      "metadata": {
        "id": "vGRTYR_ZahPz"
      },
      "execution_count": 42,
      "outputs": []
    },
    {
      "cell_type": "markdown",
      "source": [
        "### **Data Translation and Formatting**"
      ],
      "metadata": {
        "id": "oGShKAYpbXwH"
      }
    },
    {
      "cell_type": "markdown",
      "source": [
        "**Task 7:** Use the files in the supplementalMaterials folder as examples of the required data format, write code to translate the power price data structure you created in Task 1 into a format that could be readily consumed by the cQuant price simulation models, and write the data to separate files for each settlement point."
      ],
      "metadata": {
        "id": "eveY56DTbdu9"
      }
    },
    {
      "cell_type": "code",
      "source": [
        "print(combined_df.columns)\n",
        "print(combined_df.head())"
      ],
      "metadata": {
        "colab": {
          "base_uri": "https://localhost:8080/"
        },
        "id": "gl8bfLfElQV_",
        "outputId": "59a9dacb-b95a-4c99-b640-d0cc50b04ae0"
      },
      "execution_count": 55,
      "outputs": [
        {
          "output_type": "stream",
          "name": "stdout",
          "text": [
            "Index(['Date', 'SettlementPoint', 'Price'], dtype='object')\n",
            "         Date SettlementPoint  Price\n",
            "0  2016-01-01       HB_BUSAVG  18.42\n",
            "1  2016-01-01      HB_HOUSTON  18.42\n",
            "2  2016-01-01       HB_HUBAVG  18.42\n",
            "3  2016-01-01        HB_NORTH  18.43\n",
            "4  2016-01-01        HB_SOUTH  18.38\n"
          ]
        }
      ]
    },
    {
      "cell_type": "code",
      "source": [
        "combined_df['Date'] = pd.to_datetime(combined_df['Date'])\n",
        "combined_df['DateOnly'] = combined_df['Date'].dt.date\n",
        "combined_df['Hour'] = combined_df['Date'].dt.hour + 1"
      ],
      "metadata": {
        "id": "uXK3SWbbmLlb"
      },
      "execution_count": 57,
      "outputs": []
    },
    {
      "cell_type": "code",
      "source": [
        "pivoted_df = combined_df.pivot_table(index=['SettlementPoint', 'DateOnly'], columns='Hour', values='Price').reset_index()\n"
      ],
      "metadata": {
        "id": "KPemdFkVmQXM"
      },
      "execution_count": 58,
      "outputs": []
    },
    {
      "cell_type": "code",
      "source": [
        "import os\n"
      ],
      "metadata": {
        "id": "kb2_B1-emYHw"
      },
      "execution_count": 60,
      "outputs": []
    },
    {
      "cell_type": "code",
      "source": [
        "print(pivoted_df.columns)\n",
        "print(len(pivoted_df.columns))\n"
      ],
      "metadata": {
        "colab": {
          "base_uri": "https://localhost:8080/"
        },
        "id": "RkSblclpmppX",
        "outputId": "44a2ba69-3db0-433c-c786-a45ba30986bb"
      },
      "execution_count": 67,
      "outputs": [
        {
          "output_type": "stream",
          "name": "stdout",
          "text": [
            "Index(['SettlementPoint', 'DateOnly', 1], dtype='object', name='Hour')\n",
            "3\n"
          ]
        }
      ]
    },
    {
      "cell_type": "code",
      "source": [
        "new_column_names = ['SettlementPoint', 'Date'] + [f'X{hour}' for hour in range(1, 25)]\n"
      ],
      "metadata": {
        "id": "bGLz9ndWm9RZ"
      },
      "execution_count": 68,
      "outputs": []
    },
    {
      "cell_type": "code",
      "source": [
        "if len(new_column_names) == len(pivoted_df.columns):\n",
        "    pivoted_df.columns = new_column_names\n",
        "else:\n",
        "    print(f\"Length mismatch: Expected {len(pivoted_df.columns)} elements, got {len(new_column_names)} elements.\")"
      ],
      "metadata": {
        "colab": {
          "base_uri": "https://localhost:8080/"
        },
        "id": "QWBoQx54nGpE",
        "outputId": "2812fa84-5dcb-4337-b85c-862191cf2b4f"
      },
      "execution_count": 69,
      "outputs": [
        {
          "output_type": "stream",
          "name": "stdout",
          "text": [
            "Length mismatch: Expected 3 elements, got 26 elements.\n"
          ]
        }
      ]
    },
    {
      "cell_type": "code",
      "source": [
        "output_dir = 'formattedSpotHistory'\n",
        "os.makedirs(output_dir, exist_ok=True)"
      ],
      "metadata": {
        "id": "WEFTdMkTnIlJ"
      },
      "execution_count": 70,
      "outputs": []
    },
    {
      "cell_type": "code",
      "source": [
        "for settlement_point in pivoted_df['SettlementPoint'].unique():\n",
        "    sp_data = pivoted_df[pivoted_df['SettlementPoint'] == settlement_point]\n",
        "    sp_data = sp_data.drop(columns=['SettlementPoint'])  # Drop the SettlementPoint column\n",
        "    sp_data.to_csv(f'{output_dir}/spot_{settlement_point}.csv', index=False)"
      ],
      "metadata": {
        "id": "oxiSSac0nMiC"
      },
      "execution_count": 71,
      "outputs": []
    }
  ]
}